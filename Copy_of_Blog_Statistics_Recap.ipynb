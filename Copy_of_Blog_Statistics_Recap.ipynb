{
  "nbformat": 4,
  "nbformat_minor": 0,
  "metadata": {
    "colab": {
      "provenance": []
    },
    "kernelspec": {
      "name": "python3",
      "display_name": "Python 3"
    }
  },
  "cells": [
    {
      "cell_type": "markdown",
      "metadata": {
        "id": "Oq9OIkpjU3hr"
      },
      "source": [
        "# <b> In this assignment, you need to put up notes around the topics which have been covered in Probability & Statistics so far. You should first create handwritten summary notes and then upload the photos in this assignment notebook. Please keep your summary elaborate so that you can refer to them at some later point of time as well. \n",
        "\n"
      ]
    }
  ]
}